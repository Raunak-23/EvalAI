{
 "cells": [
  {
   "cell_type": "code",
   "execution_count": null,
   "id": "4e9e7690",
   "metadata": {},
   "outputs": [
    {
     "name": "stdout",
     "output_type": "stream",
     "text": [
      "Note: you may need to restart the kernel to use updated packages.\n"
     ]
    },
    {
     "name": "stderr",
     "output_type": "stream",
     "text": [
      "WARNING: Ignoring invalid distribution -ip (d:\\evalai\\env\\venv-evalai\\lib\\site-packages)\n",
      "WARNING: Ignoring invalid distribution -ip (d:\\evalai\\env\\venv-evalai\\lib\\site-packages)\n",
      "WARNING: Ignoring invalid distribution -ip (d:\\evalai\\env\\venv-evalai\\lib\\site-packages)\n",
      "WARNING: Ignoring invalid distribution -ip (d:\\evalai\\env\\venv-evalai\\lib\\site-packages)\n",
      "WARNING: Ignoring invalid distribution -ip (d:\\evalai\\env\\venv-evalai\\lib\\site-packages)\n",
      "WARNING: Ignoring invalid distribution -ip (d:\\evalai\\env\\venv-evalai\\lib\\site-packages)\n",
      "WARNING: You are using pip version 21.2.3; however, version 25.2 is available.\n",
      "You should consider upgrading via the 'd:\\EvalAI\\env\\venv-evalai\\Scripts\\python.exe -m pip install --upgrade pip' command.\n"
     ]
    }
   ],
   "source": [
    "%pip install --quiet huggingface_hub\n",
    "!huggingface-cli login"
   ]
  }
 ],
 "metadata": {
  "kernelspec": {
   "display_name": "venv-evalai",
   "language": "python",
   "name": "python3"
  },
  "language_info": {
   "codemirror_mode": {
    "name": "ipython",
    "version": 3
   },
   "file_extension": ".py",
   "mimetype": "text/x-python",
   "name": "python",
   "nbconvert_exporter": "python",
   "pygments_lexer": "ipython3",
   "version": "3.10.0"
  }
 },
 "nbformat": 4,
 "nbformat_minor": 5
}
